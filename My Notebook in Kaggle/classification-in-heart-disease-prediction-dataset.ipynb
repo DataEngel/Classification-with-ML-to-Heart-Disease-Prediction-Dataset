{
 "cells": [
  {
   "cell_type": "code",
   "execution_count": 1,
   "metadata": {
    "_cell_guid": "b1076dfc-b9ad-4769-8c92-a6c4dae69d19",
    "_uuid": "8f2839f25d086af736a60e9eeb907d3b93b6e0e5",
    "execution": {
     "iopub.execute_input": "2021-04-09T02:36:15.243297Z",
     "iopub.status.busy": "2021-04-09T02:36:15.242588Z",
     "iopub.status.idle": "2021-04-09T02:36:16.786344Z",
     "shell.execute_reply": "2021-04-09T02:36:16.785407Z"
    },
    "papermill": {
     "duration": 1.567506,
     "end_time": "2021-04-09T02:36:16.786602",
     "exception": false,
     "start_time": "2021-04-09T02:36:15.219096",
     "status": "completed"
    },
    "tags": []
   },
   "outputs": [],
   "source": [
    "# Import the general libraries\n",
    "\n",
    "import os \n",
    "import pandas as pd \n",
    "import sklearn \n",
    "import matplotlib.pyplot as plt\n",
    "\n",
    "# Import all specific modules\n",
    "\n",
    "from sklearn.decomposition import PCA\n",
    "from sklearn.svm import SVC\n",
    "from sklearn.svm import LinearSVC\n",
    "from sklearn.linear_model import SGDClassifier\n",
    "from sklearn.decomposition import IncrementalPCA\n",
    "from sklearn.linear_model import LogisticRegression \n",
    "from sklearn.preprocessing import StandardScaler \n",
    "from sklearn.model_selection import train_test_split\n",
    "from sklearn.decomposition import KernelPCA\n",
    "from sklearn.tree import DecisionTreeClassifier\n",
    "from sklearn.ensemble import RandomForestClassifier\n",
    "from sklearn.neighbors import KNeighborsClassifier\n",
    "from sklearn.ensemble import BaggingClassifier\n",
    "from sklearn.ensemble import GradientBoostingClassifier\n",
    "from sklearn.metrics import accuracy_score\n",
    "\n",
    "import warnings\n",
    "warnings.filterwarnings(\"ignore\")"
   ]
  },
  {
   "cell_type": "code",
   "execution_count": 2,
   "metadata": {
    "execution": {
     "iopub.execute_input": "2021-04-09T02:36:16.826181Z",
     "iopub.status.busy": "2021-04-09T02:36:16.825409Z",
     "iopub.status.idle": "2021-04-09T02:36:16.839774Z",
     "shell.execute_reply": "2021-04-09T02:36:16.840292Z"
    },
    "papermill": {
     "duration": 0.036097,
     "end_time": "2021-04-09T02:36:16.840472",
     "exception": false,
     "start_time": "2021-04-09T02:36:16.804375",
     "status": "completed"
    },
    "tags": []
   },
   "outputs": [
    {
     "data": {
      "text/plain": [
       "['heart.csv']"
      ]
     },
     "execution_count": 2,
     "metadata": {},
     "output_type": "execute_result"
    }
   ],
   "source": [
    "# Verify the dataset path \n",
    "\n",
    "os.listdir('../input/heart-disease-uci')"
   ]
  },
  {
   "cell_type": "code",
   "execution_count": 3,
   "metadata": {
    "execution": {
     "iopub.execute_input": "2021-04-09T02:36:16.880688Z",
     "iopub.status.busy": "2021-04-09T02:36:16.879948Z",
     "iopub.status.idle": "2021-04-09T02:36:16.901210Z",
     "shell.execute_reply": "2021-04-09T02:36:16.901772Z"
    },
    "papermill": {
     "duration": 0.043105,
     "end_time": "2021-04-09T02:36:16.901995",
     "exception": false,
     "start_time": "2021-04-09T02:36:16.858890",
     "status": "completed"
    },
    "tags": []
   },
   "outputs": [],
   "source": [
    "# Import the dataset\n",
    "\n",
    "df_heart = pd.read_csv('../input/heart-disease-uci/heart.csv')"
   ]
  },
  {
   "cell_type": "code",
   "execution_count": 4,
   "metadata": {
    "execution": {
     "iopub.execute_input": "2021-04-09T02:36:16.942894Z",
     "iopub.status.busy": "2021-04-09T02:36:16.942107Z",
     "iopub.status.idle": "2021-04-09T02:36:16.974353Z",
     "shell.execute_reply": "2021-04-09T02:36:16.974870Z"
    },
    "papermill": {
     "duration": 0.054272,
     "end_time": "2021-04-09T02:36:16.975063",
     "exception": false,
     "start_time": "2021-04-09T02:36:16.920791",
     "status": "completed"
    },
    "tags": []
   },
   "outputs": [
    {
     "data": {
      "text/html": [
       "<div>\n",
       "<style scoped>\n",
       "    .dataframe tbody tr th:only-of-type {\n",
       "        vertical-align: middle;\n",
       "    }\n",
       "\n",
       "    .dataframe tbody tr th {\n",
       "        vertical-align: top;\n",
       "    }\n",
       "\n",
       "    .dataframe thead th {\n",
       "        text-align: right;\n",
       "    }\n",
       "</style>\n",
       "<table border=\"1\" class=\"dataframe\">\n",
       "  <thead>\n",
       "    <tr style=\"text-align: right;\">\n",
       "      <th></th>\n",
       "      <th>age</th>\n",
       "      <th>sex</th>\n",
       "      <th>cp</th>\n",
       "      <th>trestbps</th>\n",
       "      <th>chol</th>\n",
       "      <th>fbs</th>\n",
       "      <th>restecg</th>\n",
       "      <th>thalach</th>\n",
       "      <th>exang</th>\n",
       "      <th>oldpeak</th>\n",
       "      <th>slope</th>\n",
       "      <th>ca</th>\n",
       "      <th>thal</th>\n",
       "      <th>target</th>\n",
       "    </tr>\n",
       "  </thead>\n",
       "  <tbody>\n",
       "    <tr>\n",
       "      <th>0</th>\n",
       "      <td>63</td>\n",
       "      <td>1</td>\n",
       "      <td>3</td>\n",
       "      <td>145</td>\n",
       "      <td>233</td>\n",
       "      <td>1</td>\n",
       "      <td>0</td>\n",
       "      <td>150</td>\n",
       "      <td>0</td>\n",
       "      <td>2.3</td>\n",
       "      <td>0</td>\n",
       "      <td>0</td>\n",
       "      <td>1</td>\n",
       "      <td>1</td>\n",
       "    </tr>\n",
       "    <tr>\n",
       "      <th>1</th>\n",
       "      <td>37</td>\n",
       "      <td>1</td>\n",
       "      <td>2</td>\n",
       "      <td>130</td>\n",
       "      <td>250</td>\n",
       "      <td>0</td>\n",
       "      <td>1</td>\n",
       "      <td>187</td>\n",
       "      <td>0</td>\n",
       "      <td>3.5</td>\n",
       "      <td>0</td>\n",
       "      <td>0</td>\n",
       "      <td>2</td>\n",
       "      <td>1</td>\n",
       "    </tr>\n",
       "    <tr>\n",
       "      <th>2</th>\n",
       "      <td>41</td>\n",
       "      <td>0</td>\n",
       "      <td>1</td>\n",
       "      <td>130</td>\n",
       "      <td>204</td>\n",
       "      <td>0</td>\n",
       "      <td>0</td>\n",
       "      <td>172</td>\n",
       "      <td>0</td>\n",
       "      <td>1.4</td>\n",
       "      <td>2</td>\n",
       "      <td>0</td>\n",
       "      <td>2</td>\n",
       "      <td>1</td>\n",
       "    </tr>\n",
       "    <tr>\n",
       "      <th>3</th>\n",
       "      <td>56</td>\n",
       "      <td>1</td>\n",
       "      <td>1</td>\n",
       "      <td>120</td>\n",
       "      <td>236</td>\n",
       "      <td>0</td>\n",
       "      <td>1</td>\n",
       "      <td>178</td>\n",
       "      <td>0</td>\n",
       "      <td>0.8</td>\n",
       "      <td>2</td>\n",
       "      <td>0</td>\n",
       "      <td>2</td>\n",
       "      <td>1</td>\n",
       "    </tr>\n",
       "    <tr>\n",
       "      <th>4</th>\n",
       "      <td>57</td>\n",
       "      <td>0</td>\n",
       "      <td>0</td>\n",
       "      <td>120</td>\n",
       "      <td>354</td>\n",
       "      <td>0</td>\n",
       "      <td>1</td>\n",
       "      <td>163</td>\n",
       "      <td>1</td>\n",
       "      <td>0.6</td>\n",
       "      <td>2</td>\n",
       "      <td>0</td>\n",
       "      <td>2</td>\n",
       "      <td>1</td>\n",
       "    </tr>\n",
       "  </tbody>\n",
       "</table>\n",
       "</div>"
      ],
      "text/plain": [
       "   age  sex  cp  trestbps  chol  fbs  restecg  thalach  exang  oldpeak  slope  \\\n",
       "0   63    1   3       145   233    1        0      150      0      2.3      0   \n",
       "1   37    1   2       130   250    0        1      187      0      3.5      0   \n",
       "2   41    0   1       130   204    0        0      172      0      1.4      2   \n",
       "3   56    1   1       120   236    0        1      178      0      0.8      2   \n",
       "4   57    0   0       120   354    0        1      163      1      0.6      2   \n",
       "\n",
       "   ca  thal  target  \n",
       "0   0     1       1  \n",
       "1   0     2       1  \n",
       "2   0     2       1  \n",
       "3   0     2       1  \n",
       "4   0     2       1  "
      ]
     },
     "execution_count": 4,
     "metadata": {},
     "output_type": "execute_result"
    }
   ],
   "source": [
    "# Show the dataset\n",
    "\n",
    "df_heart.head()"
   ]
  },
  {
   "cell_type": "code",
   "execution_count": 5,
   "metadata": {
    "execution": {
     "iopub.execute_input": "2021-04-09T02:36:17.015726Z",
     "iopub.status.busy": "2021-04-09T02:36:17.014896Z",
     "iopub.status.idle": "2021-04-09T02:36:17.030075Z",
     "shell.execute_reply": "2021-04-09T02:36:17.030728Z"
    },
    "papermill": {
     "duration": 0.037215,
     "end_time": "2021-04-09T02:36:17.030925",
     "exception": false,
     "start_time": "2021-04-09T02:36:16.993710",
     "status": "completed"
    },
    "tags": []
   },
   "outputs": [
    {
     "data": {
      "text/html": [
       "<div>\n",
       "<style scoped>\n",
       "    .dataframe tbody tr th:only-of-type {\n",
       "        vertical-align: middle;\n",
       "    }\n",
       "\n",
       "    .dataframe tbody tr th {\n",
       "        vertical-align: top;\n",
       "    }\n",
       "\n",
       "    .dataframe thead th {\n",
       "        text-align: right;\n",
       "    }\n",
       "</style>\n",
       "<table border=\"1\" class=\"dataframe\">\n",
       "  <thead>\n",
       "    <tr style=\"text-align: right;\">\n",
       "      <th></th>\n",
       "      <th>age</th>\n",
       "      <th>sex</th>\n",
       "      <th>cp</th>\n",
       "      <th>trestbps</th>\n",
       "      <th>chol</th>\n",
       "      <th>fbs</th>\n",
       "      <th>restecg</th>\n",
       "      <th>thalach</th>\n",
       "      <th>exang</th>\n",
       "      <th>oldpeak</th>\n",
       "      <th>slope</th>\n",
       "      <th>ca</th>\n",
       "      <th>thal</th>\n",
       "    </tr>\n",
       "  </thead>\n",
       "  <tbody>\n",
       "    <tr>\n",
       "      <th>0</th>\n",
       "      <td>63</td>\n",
       "      <td>1</td>\n",
       "      <td>3</td>\n",
       "      <td>145</td>\n",
       "      <td>233</td>\n",
       "      <td>1</td>\n",
       "      <td>0</td>\n",
       "      <td>150</td>\n",
       "      <td>0</td>\n",
       "      <td>2.3</td>\n",
       "      <td>0</td>\n",
       "      <td>0</td>\n",
       "      <td>1</td>\n",
       "    </tr>\n",
       "    <tr>\n",
       "      <th>1</th>\n",
       "      <td>37</td>\n",
       "      <td>1</td>\n",
       "      <td>2</td>\n",
       "      <td>130</td>\n",
       "      <td>250</td>\n",
       "      <td>0</td>\n",
       "      <td>1</td>\n",
       "      <td>187</td>\n",
       "      <td>0</td>\n",
       "      <td>3.5</td>\n",
       "      <td>0</td>\n",
       "      <td>0</td>\n",
       "      <td>2</td>\n",
       "    </tr>\n",
       "    <tr>\n",
       "      <th>2</th>\n",
       "      <td>41</td>\n",
       "      <td>0</td>\n",
       "      <td>1</td>\n",
       "      <td>130</td>\n",
       "      <td>204</td>\n",
       "      <td>0</td>\n",
       "      <td>0</td>\n",
       "      <td>172</td>\n",
       "      <td>0</td>\n",
       "      <td>1.4</td>\n",
       "      <td>2</td>\n",
       "      <td>0</td>\n",
       "      <td>2</td>\n",
       "    </tr>\n",
       "    <tr>\n",
       "      <th>3</th>\n",
       "      <td>56</td>\n",
       "      <td>1</td>\n",
       "      <td>1</td>\n",
       "      <td>120</td>\n",
       "      <td>236</td>\n",
       "      <td>0</td>\n",
       "      <td>1</td>\n",
       "      <td>178</td>\n",
       "      <td>0</td>\n",
       "      <td>0.8</td>\n",
       "      <td>2</td>\n",
       "      <td>0</td>\n",
       "      <td>2</td>\n",
       "    </tr>\n",
       "    <tr>\n",
       "      <th>4</th>\n",
       "      <td>57</td>\n",
       "      <td>0</td>\n",
       "      <td>0</td>\n",
       "      <td>120</td>\n",
       "      <td>354</td>\n",
       "      <td>0</td>\n",
       "      <td>1</td>\n",
       "      <td>163</td>\n",
       "      <td>1</td>\n",
       "      <td>0.6</td>\n",
       "      <td>2</td>\n",
       "      <td>0</td>\n",
       "      <td>2</td>\n",
       "    </tr>\n",
       "  </tbody>\n",
       "</table>\n",
       "</div>"
      ],
      "text/plain": [
       "   age  sex  cp  trestbps  chol  fbs  restecg  thalach  exang  oldpeak  slope  \\\n",
       "0   63    1   3       145   233    1        0      150      0      2.3      0   \n",
       "1   37    1   2       130   250    0        1      187      0      3.5      0   \n",
       "2   41    0   1       130   204    0        0      172      0      1.4      2   \n",
       "3   56    1   1       120   236    0        1      178      0      0.8      2   \n",
       "4   57    0   0       120   354    0        1      163      1      0.6      2   \n",
       "\n",
       "   ca  thal  \n",
       "0   0     1  \n",
       "1   0     2  \n",
       "2   0     2  \n",
       "3   0     2  \n",
       "4   0     2  "
      ]
     },
     "execution_count": 5,
     "metadata": {},
     "output_type": "execute_result"
    }
   ],
   "source": [
    "# Save the dataset without target row\n",
    "\n",
    "df_heart_features = df_heart.drop(['target'], axis=1)\n",
    "df_heart_features.head()"
   ]
  },
  {
   "cell_type": "code",
   "execution_count": 6,
   "metadata": {
    "execution": {
     "iopub.execute_input": "2021-04-09T02:36:17.073201Z",
     "iopub.status.busy": "2021-04-09T02:36:17.072521Z",
     "iopub.status.idle": "2021-04-09T02:36:17.078314Z",
     "shell.execute_reply": "2021-04-09T02:36:17.078800Z"
    },
    "papermill": {
     "duration": 0.028342,
     "end_time": "2021-04-09T02:36:17.078981",
     "exception": false,
     "start_time": "2021-04-09T02:36:17.050639",
     "status": "completed"
    },
    "tags": []
   },
   "outputs": [
    {
     "data": {
      "text/plain": [
       "0    1\n",
       "1    1\n",
       "2    1\n",
       "3    1\n",
       "4    1\n",
       "Name: target, dtype: int64"
      ]
     },
     "execution_count": 6,
     "metadata": {},
     "output_type": "execute_result"
    }
   ],
   "source": [
    "# Create a df just with target row\n",
    "\n",
    "df_target = df_heart['target']\n",
    "df_target.head()"
   ]
  },
  {
   "cell_type": "code",
   "execution_count": 7,
   "metadata": {
    "execution": {
     "iopub.execute_input": "2021-04-09T02:36:17.122559Z",
     "iopub.status.busy": "2021-04-09T02:36:17.121873Z",
     "iopub.status.idle": "2021-04-09T02:36:17.130442Z",
     "shell.execute_reply": "2021-04-09T02:36:17.130939Z"
    },
    "papermill": {
     "duration": 0.032609,
     "end_time": "2021-04-09T02:36:17.131143",
     "exception": false,
     "start_time": "2021-04-09T02:36:17.098534",
     "status": "completed"
    },
    "tags": []
   },
   "outputs": [],
   "source": [
    "# We gonna normalize the data\n",
    "\n",
    "df_heart_features = StandardScaler().fit_transform(df_heart_features)"
   ]
  },
  {
   "cell_type": "code",
   "execution_count": 8,
   "metadata": {
    "execution": {
     "iopub.execute_input": "2021-04-09T02:36:17.175648Z",
     "iopub.status.busy": "2021-04-09T02:36:17.174955Z",
     "iopub.status.idle": "2021-04-09T02:36:17.181032Z",
     "shell.execute_reply": "2021-04-09T02:36:17.181508Z"
    },
    "papermill": {
     "duration": 0.029791,
     "end_time": "2021-04-09T02:36:17.181688",
     "exception": false,
     "start_time": "2021-04-09T02:36:17.151897",
     "status": "completed"
    },
    "tags": []
   },
   "outputs": [],
   "source": [
    "# Cut train test and test split \n",
    "\n",
    "X_train, X_test, y_train, y_test = train_test_split(df_heart_features, df_target, test_size=0.3, random_state=42)"
   ]
  },
  {
   "cell_type": "code",
   "execution_count": 9,
   "metadata": {
    "execution": {
     "iopub.execute_input": "2021-04-09T02:36:17.227120Z",
     "iopub.status.busy": "2021-04-09T02:36:17.226048Z",
     "iopub.status.idle": "2021-04-09T02:36:17.229711Z",
     "shell.execute_reply": "2021-04-09T02:36:17.230221Z"
    },
    "papermill": {
     "duration": 0.029325,
     "end_time": "2021-04-09T02:36:17.230620",
     "exception": false,
     "start_time": "2021-04-09T02:36:17.201295",
     "status": "completed"
    },
    "tags": []
   },
   "outputs": [
    {
     "name": "stdout",
     "output_type": "stream",
     "text": [
      " X_train size:  (212, 13)\n",
      " y_train size:  (212,)\n"
     ]
    }
   ],
   "source": [
    "# We gonna review the size\n",
    "\n",
    "print(\" X_train size: \" ,X_train.shape)\n",
    "print(\" y_train size: \" ,y_train.shape)"
   ]
  },
  {
   "cell_type": "code",
   "execution_count": 10,
   "metadata": {
    "execution": {
     "iopub.execute_input": "2021-04-09T02:36:17.276238Z",
     "iopub.status.busy": "2021-04-09T02:36:17.275451Z",
     "iopub.status.idle": "2021-04-09T02:36:17.279115Z",
     "shell.execute_reply": "2021-04-09T02:36:17.279640Z"
    },
    "papermill": {
     "duration": 0.02796,
     "end_time": "2021-04-09T02:36:17.279847",
     "exception": false,
     "start_time": "2021-04-09T02:36:17.251887",
     "status": "completed"
    },
    "tags": []
   },
   "outputs": [],
   "source": [
    "# Config to apply pca \n",
    "\n",
    "pca = PCA(n_components = 3)"
   ]
  },
  {
   "cell_type": "code",
   "execution_count": 11,
   "metadata": {
    "execution": {
     "iopub.execute_input": "2021-04-09T02:36:17.324354Z",
     "iopub.status.busy": "2021-04-09T02:36:17.323701Z",
     "iopub.status.idle": "2021-04-09T02:36:17.346963Z",
     "shell.execute_reply": "2021-04-09T02:36:17.347465Z"
    },
    "papermill": {
     "duration": 0.047326,
     "end_time": "2021-04-09T02:36:17.347677",
     "exception": false,
     "start_time": "2021-04-09T02:36:17.300351",
     "status": "completed"
    },
    "tags": []
   },
   "outputs": [
    {
     "data": {
      "text/plain": [
       "PCA(n_components=3)"
      ]
     },
     "execution_count": 11,
     "metadata": {},
     "output_type": "execute_result"
    }
   ],
   "source": [
    "# we fit pca for own train data\n",
    "\n",
    "pca.fit(X_train)"
   ]
  },
  {
   "cell_type": "code",
   "execution_count": 12,
   "metadata": {
    "execution": {
     "iopub.execute_input": "2021-04-09T02:36:17.393420Z",
     "iopub.status.busy": "2021-04-09T02:36:17.392715Z",
     "iopub.status.idle": "2021-04-09T02:36:17.396107Z",
     "shell.execute_reply": "2021-04-09T02:36:17.396623Z"
    },
    "papermill": {
     "duration": 0.028151,
     "end_time": "2021-04-09T02:36:17.396795",
     "exception": false,
     "start_time": "2021-04-09T02:36:17.368644",
     "status": "completed"
    },
    "tags": []
   },
   "outputs": [],
   "source": [
    "# We are the same with IPCA and we add batch_size to keep training slowly and combine with the final result\n",
    "\n",
    "ipca = IncrementalPCA(n_components=3, batch_size=10)"
   ]
  },
  {
   "cell_type": "code",
   "execution_count": 13,
   "metadata": {
    "execution": {
     "iopub.execute_input": "2021-04-09T02:36:17.442754Z",
     "iopub.status.busy": "2021-04-09T02:36:17.442074Z",
     "iopub.status.idle": "2021-04-09T02:36:17.459672Z",
     "shell.execute_reply": "2021-04-09T02:36:17.458943Z"
    },
    "papermill": {
     "duration": 0.041959,
     "end_time": "2021-04-09T02:36:17.459824",
     "exception": false,
     "start_time": "2021-04-09T02:36:17.417865",
     "status": "completed"
    },
    "tags": []
   },
   "outputs": [
    {
     "data": {
      "text/plain": [
       "IncrementalPCA(batch_size=10, n_components=3)"
      ]
     },
     "execution_count": 13,
     "metadata": {},
     "output_type": "execute_result"
    }
   ],
   "source": [
    "# we fit ipca for own train data \n",
    "\n",
    "ipca.fit(X_train)"
   ]
  },
  {
   "cell_type": "code",
   "execution_count": 14,
   "metadata": {
    "execution": {
     "iopub.execute_input": "2021-04-09T02:36:17.524653Z",
     "iopub.status.busy": "2021-04-09T02:36:17.523594Z",
     "iopub.status.idle": "2021-04-09T02:36:17.715157Z",
     "shell.execute_reply": "2021-04-09T02:36:17.716170Z"
    },
    "papermill": {
     "duration": 0.235215,
     "end_time": "2021-04-09T02:36:17.716417",
     "exception": false,
     "start_time": "2021-04-09T02:36:17.481202",
     "status": "completed"
    },
    "tags": []
   },
   "outputs": [
    {
     "data": {
      "image/png": "[encoded data removed]",
      "text/plain": [
       "<Figure size 432x288 with 1 Axes>"
      ]
     },
     "metadata": {
      "needs_background": "light"
     },
     "output_type": "display_data"
    }
   ],
   "source": [
    "'''We are going to graph what the pca automatically generated for me on the x-axis, against the y-axis, \n",
    "the value of the importance in each of these components, so we can identify which ones are really important \n",
    "for our model'''\n",
    "\n",
    "plt.plot(range(len(pca.explained_variance_)), pca.explained_variance_ratio_)\n",
    "plt.show()"
   ]
  },
  {
   "cell_type": "code",
   "execution_count": 15,
   "metadata": {
    "execution": {
     "iopub.execute_input": "2021-04-09T02:36:17.774806Z",
     "iopub.status.busy": "2021-04-09T02:36:17.773755Z",
     "iopub.status.idle": "2021-04-09T02:36:17.776249Z",
     "shell.execute_reply": "2021-04-09T02:36:17.776771Z"
    },
    "papermill": {
     "duration": 0.032193,
     "end_time": "2021-04-09T02:36:17.776948",
     "exception": false,
     "start_time": "2021-04-09T02:36:17.744755",
     "status": "completed"
    },
    "tags": []
   },
   "outputs": [],
   "source": [
    "# We gonna config the logistic regression \n",
    "\n",
    "regLog = LogisticRegression(solver='lbfgs')"
   ]
  },
  {
   "cell_type": "code",
   "execution_count": 16,
   "metadata": {
    "execution": {
     "iopub.execute_input": "2021-04-09T02:36:17.848947Z",
     "iopub.status.busy": "2021-04-09T02:36:17.847967Z",
     "iopub.status.idle": "2021-04-09T02:36:17.854041Z",
     "shell.execute_reply": "2021-04-09T02:36:17.853381Z"
    },
    "papermill": {
     "duration": 0.044291,
     "end_time": "2021-04-09T02:36:17.854200",
     "exception": false,
     "start_time": "2021-04-09T02:36:17.809909",
     "status": "completed"
    },
    "tags": []
   },
   "outputs": [],
   "source": [
    "# We gonna config the train data of PCA\n",
    "\n",
    "df_train = pca.transform(X_train)\n",
    "df_test = pca.transform(X_test)"
   ]
  },
  {
   "cell_type": "code",
   "execution_count": 17,
   "metadata": {
    "execution": {
     "iopub.execute_input": "2021-04-09T02:36:17.918428Z",
     "iopub.status.busy": "2021-04-09T02:36:17.917769Z",
     "iopub.status.idle": "2021-04-09T02:36:17.921775Z",
     "shell.execute_reply": "2021-04-09T02:36:17.922335Z"
    },
    "papermill": {
     "duration": 0.043712,
     "end_time": "2021-04-09T02:36:17.922558",
     "exception": false,
     "start_time": "2021-04-09T02:36:17.878846",
     "status": "completed"
    },
    "tags": []
   },
   "outputs": [
    {
     "data": {
      "text/plain": [
       "LogisticRegression()"
      ]
     },
     "execution_count": 17,
     "metadata": {},
     "output_type": "execute_result"
    }
   ],
   "source": [
    "# We send data at logistic regression\n",
    "\n",
    "regLog.fit(df_train, y_train)"
   ]
  },
  {
   "cell_type": "code",
   "execution_count": 18,
   "metadata": {
    "execution": {
     "iopub.execute_input": "2021-04-09T02:36:17.976904Z",
     "iopub.status.busy": "2021-04-09T02:36:17.973043Z",
     "iopub.status.idle": "2021-04-09T02:36:17.982432Z",
     "shell.execute_reply": "2021-04-09T02:36:17.981329Z"
    },
    "papermill": {
     "duration": 0.036304,
     "end_time": "2021-04-09T02:36:17.982752",
     "exception": false,
     "start_time": "2021-04-09T02:36:17.946448",
     "status": "completed"
    },
    "tags": []
   },
   "outputs": [
    {
     "name": "stdout",
     "output_type": "stream",
     "text": [
      "Score PCA:  0.8351648351648352\n"
     ]
    }
   ],
   "source": [
    "# We gonna calcula the score\n",
    "\n",
    "print(\"Score PCA: \", regLog.score(df_test, y_test))"
   ]
  },
  {
   "cell_type": "code",
   "execution_count": 19,
   "metadata": {
    "execution": {
     "iopub.execute_input": "2021-04-09T02:36:18.034982Z",
     "iopub.status.busy": "2021-04-09T02:36:18.034231Z",
     "iopub.status.idle": "2021-04-09T02:36:18.040785Z",
     "shell.execute_reply": "2021-04-09T02:36:18.040233Z"
    },
    "papermill": {
     "duration": 0.033676,
     "end_time": "2021-04-09T02:36:18.040935",
     "exception": false,
     "start_time": "2021-04-09T02:36:18.007259",
     "status": "completed"
    },
    "tags": []
   },
   "outputs": [],
   "source": [
    "# We gonna config the train data of IPCA\n",
    "\n",
    "df_train = ipca.transform(X_train)\n",
    "df_test = ipca.transform(X_test)"
   ]
  },
  {
   "cell_type": "code",
   "execution_count": 20,
   "metadata": {
    "execution": {
     "iopub.execute_input": "2021-04-09T02:36:18.096146Z",
     "iopub.status.busy": "2021-04-09T02:36:18.094971Z",
     "iopub.status.idle": "2021-04-09T02:36:18.105111Z",
     "shell.execute_reply": "2021-04-09T02:36:18.104568Z"
    },
    "papermill": {
     "duration": 0.040543,
     "end_time": "2021-04-09T02:36:18.105264",
     "exception": false,
     "start_time": "2021-04-09T02:36:18.064721",
     "status": "completed"
    },
    "tags": []
   },
   "outputs": [
    {
     "data": {
      "text/plain": [
       "LogisticRegression()"
      ]
     },
     "execution_count": 20,
     "metadata": {},
     "output_type": "execute_result"
    }
   ],
   "source": [
    "# We send data at logistic regression\n",
    "\n",
    "regLog.fit(df_train, y_train)"
   ]
  },
  {
   "cell_type": "code",
   "execution_count": 21,
   "metadata": {
    "execution": {
     "iopub.execute_input": "2021-04-09T02:36:18.161640Z",
     "iopub.status.busy": "2021-04-09T02:36:18.160823Z",
     "iopub.status.idle": "2021-04-09T02:36:18.164331Z",
     "shell.execute_reply": "2021-04-09T02:36:18.164844Z"
    },
    "papermill": {
     "duration": 0.03525,
     "end_time": "2021-04-09T02:36:18.165014",
     "exception": false,
     "start_time": "2021-04-09T02:36:18.129764",
     "status": "completed"
    },
    "tags": []
   },
   "outputs": [
    {
     "name": "stdout",
     "output_type": "stream",
     "text": [
      "SCORE IPCA:  0.8351648351648352\n"
     ]
    }
   ],
   "source": [
    "# We gonna calcula the score\n",
    "\n",
    "print(\"SCORE IPCA: \", regLog.score(df_test, y_test))"
   ]
  },
  {
   "cell_type": "markdown",
   "metadata": {
    "papermill": {
     "duration": 0.024318,
     "end_time": "2021-04-09T02:36:18.214044",
     "exception": false,
     "start_time": "2021-04-09T02:36:18.189726",
     "status": "completed"
    },
    "tags": []
   },
   "source": [
    "## Apply a kernel PCA"
   ]
  },
  {
   "cell_type": "code",
   "execution_count": 22,
   "metadata": {
    "execution": {
     "iopub.execute_input": "2021-04-09T02:36:18.266883Z",
     "iopub.status.busy": "2021-04-09T02:36:18.265899Z",
     "iopub.status.idle": "2021-04-09T02:36:18.313288Z",
     "shell.execute_reply": "2021-04-09T02:36:18.314246Z"
    },
    "papermill": {
     "duration": 0.076081,
     "end_time": "2021-04-09T02:36:18.314531",
     "exception": false,
     "start_time": "2021-04-09T02:36:18.238450",
     "status": "completed"
    },
    "tags": []
   },
   "outputs": [
    {
     "name": "stdout",
     "output_type": "stream",
     "text": [
      "SCORE KPCA:  0.8241758241758241\n"
     ]
    }
   ],
   "source": [
    "# Apply polynomial kernel function\n",
    "kpca = KernelPCA(n_components=4, kernel='poly' )\n",
    "    \n",
    "# Fit the data\n",
    "kpca.fit(X_train)\n",
    " \n",
    "# Apply the algoritm to test and train dataset\n",
    "dt_train = kpca.transform(X_train)\n",
    "dt_test = kpca.transform(X_test)\n",
    " \n",
    "# Apply logistic regression later reduce the dimensionality\n",
    "logistic = LogisticRegression(solver='lbfgs')\n",
    " \n",
    "# Train the model\n",
    "logistic.fit(dt_train, y_train)\n",
    " \n",
    "# Print the results\n",
    "print(\"SCORE KPCA: \", logistic.score(dt_test, y_test))"
   ]
  },
  {
   "cell_type": "markdown",
   "metadata": {
    "papermill": {
     "duration": 0.025286,
     "end_time": "2021-04-09T02:36:18.368843",
     "exception": false,
     "start_time": "2021-04-09T02:36:18.343557",
     "status": "completed"
    },
    "tags": []
   },
   "source": [
    "## Apply All Clasifiers"
   ]
  },
  {
   "cell_type": "code",
   "execution_count": 23,
   "metadata": {
    "execution": {
     "iopub.execute_input": "2021-04-09T02:36:18.423119Z",
     "iopub.status.busy": "2021-04-09T02:36:18.422141Z",
     "iopub.status.idle": "2021-04-09T02:36:18.436348Z",
     "shell.execute_reply": "2021-04-09T02:36:18.437053Z"
    },
    "papermill": {
     "duration": 0.043158,
     "end_time": "2021-04-09T02:36:18.437236",
     "exception": false,
     "start_time": "2021-04-09T02:36:18.394078",
     "status": "completed"
    },
    "tags": []
   },
   "outputs": [
    {
     "name": "stdout",
     "output_type": "stream",
     "text": [
      "================================================================\n",
      "SCORE con KNN:  0.8791208791208791\n"
     ]
    }
   ],
   "source": [
    "knn_class = KNeighborsClassifier().fit(X_train, y_train)\n",
    "knn_prediction = knn_class.predict(X_test)\n",
    "print('='*64)\n",
    "print('SCORE con KNN: ', accuracy_score(knn_prediction, y_test))"
   ]
  },
  {
   "cell_type": "code",
   "execution_count": 24,
   "metadata": {
    "execution": {
     "iopub.execute_input": "2021-04-09T02:36:18.502053Z",
     "iopub.status.busy": "2021-04-09T02:36:18.501389Z",
     "iopub.status.idle": "2021-04-09T02:36:29.917842Z",
     "shell.execute_reply": "2021-04-09T02:36:29.917155Z"
    },
    "papermill": {
     "duration": 11.454946,
     "end_time": "2021-04-09T02:36:29.917999",
     "exception": false,
     "start_time": "2021-04-09T02:36:18.463053",
     "status": "completed"
    },
    "tags": []
   },
   "outputs": [
    {
     "name": "stdout",
     "output_type": "stream",
     "text": [
      "================================================================\n",
      "SCORE Bagging with LogisticRegression : 0.8131868131868132\n",
      "================================================================\n",
      "SCORE Bagging with SVC : 0.8021978021978022\n",
      "================================================================\n",
      "SCORE Bagging with LinearSVC : 0.7912087912087912\n",
      "================================================================\n",
      "SCORE Bagging with SGD : 0.8241758241758241\n",
      "================================================================\n",
      "SCORE Bagging with KNN : 0.8791208791208791\n",
      "================================================================\n",
      "SCORE Bagging with DecisionTreeClf : 0.7912087912087912\n",
      "================================================================\n",
      "SCORE Bagging with RandomTreeForest : 0.8241758241758241\n"
     ]
    }
   ],
   "source": [
    "estimators = {\n",
    "        'LogisticRegression' : LogisticRegression(),\n",
    "        'SVC' : SVC(),\n",
    "        'LinearSVC' : LinearSVC(),\n",
    "        'SGD' : SGDClassifier(loss=\"hinge\", penalty=\"l2\", max_iter=5),\n",
    "        'KNN' : KNeighborsClassifier(),\n",
    "        'DecisionTreeClf' : DecisionTreeClassifier(),\n",
    "        'RandomTreeForest' : RandomForestClassifier(random_state=0)\n",
    "    }\n",
    "for name, estimator in estimators.items():\n",
    "    bag_class = BaggingClassifier(base_estimator=estimator, n_estimators=50).fit(X_train, y_train)\n",
    "    bag_predict = bag_class.predict(X_test)\n",
    "    print('='*64)\n",
    "    print('SCORE Bagging with {} : {}'.format(name, accuracy_score(bag_predict, y_test)))"
   ]
  },
  {
   "cell_type": "markdown",
   "metadata": {
    "papermill": {
     "duration": 0.026592,
     "end_time": "2021-04-09T02:36:29.971947",
     "exception": false,
     "start_time": "2021-04-09T02:36:29.945355",
     "status": "completed"
    },
    "tags": []
   },
   "source": [
    "## Boosting"
   ]
  },
  {
   "cell_type": "code",
   "execution_count": 25,
   "metadata": {
    "execution": {
     "iopub.execute_input": "2021-04-09T02:36:30.037049Z",
     "iopub.status.busy": "2021-04-09T02:36:30.036201Z",
     "iopub.status.idle": "2021-04-09T02:36:31.916850Z",
     "shell.execute_reply": "2021-04-09T02:36:31.916141Z"
    },
    "papermill": {
     "duration": 1.91801,
     "end_time": "2021-04-09T02:36:31.917004",
     "exception": false,
     "start_time": "2021-04-09T02:36:29.998994",
     "status": "completed"
    },
    "tags": []
   },
   "outputs": [
    {
     "name": "stdout",
     "output_type": "stream",
     "text": [
      "================================================================\n",
      "GradientBoostingClassifier:  0.7912087912087912\n"
     ]
    },
    {
     "data": {
      "image/png": "[encoded data removed]",
      "text/plain": [
       "<Figure size 432x288 with 1 Axes>"
      ]
     },
     "metadata": {
      "needs_background": "light"
     },
     "output_type": "display_data"
    }
   ],
   "source": [
    "# Definimos nuestro clasificador, definimos 50 arbole y le agregamos el ajuste\n",
    "# Define the classifier, define 50 threes and add the fit\n",
    "boost = GradientBoostingClassifier(n_estimators=50).fit(X_train, y_train)\n",
    "\n",
    "# Generate the predictions \n",
    "boost_pred = boost.predict(X_test)\n",
    "print(\"=\"*64)\n",
    "print(\"GradientBoostingClassifier: \", accuracy_score(boost_pred, y_test)) \n",
    "\n",
    "estimators = range(10, 200, 10)\n",
    "total_accuracy = []\n",
    "for i in estimators:\n",
    "    boost = GradientBoostingClassifier(n_estimators=i).fit(X_train, y_train)\n",
    "    boost_pred = boost.predict(X_test)\n",
    "\n",
    "    total_accuracy.append(accuracy_score(y_test, boost_pred))\n",
    "    \n",
    "plt.plot(estimators, total_accuracy)\n",
    "plt.xlabel('Estimators')\n",
    "plt.ylabel('Accuracy')\n",
    "plt.show()"
   ]
  },
  {
   "cell_type": "code",
   "execution_count": null,
   "metadata": {
    "papermill": {
     "duration": 0.027982,
     "end_time": "2021-04-09T02:36:31.973730",
     "exception": false,
     "start_time": "2021-04-09T02:36:31.945748",
     "status": "completed"
    },
    "tags": []
   },
   "outputs": [],
   "source": []
  }
 ],
 "metadata": {
  "kernelspec": {
   "display_name": "Python 3",
   "language": "python",
   "name": "python3"
  },
  "language_info": {
   "codemirror_mode": {
    "name": "ipython",
    "version": 3
   },
   "file_extension": ".py",
   "mimetype": "text/x-python",
   "name": "python",
   "nbconvert_exporter": "python",
   "pygments_lexer": "ipython3",
   "version": "3.7.9"
  },
  "papermill": {
   "default_parameters": {},
   "duration": 24.052802,
   "end_time": "2021-04-09T02:36:32.714798",
   "environment_variables": {},
   "exception": null,
   "input_path": "__notebook__.ipynb",
   "output_path": "__notebook__.ipynb",
   "parameters": {},
   "start_time": "2021-04-09T02:36:08.661996",
   "version": "2.2.2"
  }
 },
 "nbformat": 4,
 "nbformat_minor": 4
}
